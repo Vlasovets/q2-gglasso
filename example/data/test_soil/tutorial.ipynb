{
 "cells": [
  {
   "cell_type": "code",
   "execution_count": null,
   "metadata": {
    "collapsed": true
   },
   "outputs": [],
   "source": [
    "import pandas as pd\n",
    "import numpy as np\n",
    "import matplotlib.pyplot as plt\n",
    "\n",
    "from scipy import stats\n",
    "\n",
    "from q2_gglasso._func import robust_PCA, remove_biom_header"
   ]
  },
  {
   "cell_type": "code",
   "execution_count": null,
   "outputs": [],
   "source": [
    "!python setup.py install"
   ],
   "metadata": {
    "collapsed": false,
    "pycharm": {
     "name": "#%%\n"
    }
   }
  },
  {
   "cell_type": "code",
   "execution_count": null,
   "outputs": [],
   "source": [
    "!qiime dev refresh-cache"
   ],
   "metadata": {
    "collapsed": false,
    "pycharm": {
     "name": "#%%\n"
    }
   }
  },
  {
   "cell_type": "markdown",
   "source": [
    "### Import data"
   ],
   "metadata": {
    "collapsed": false,
    "pycharm": {
     "name": "#%% md\n"
    }
   }
  },
  {
   "cell_type": "code",
   "execution_count": null,
   "outputs": [],
   "source": [
    "!qiime tools import \\\n",
    "    --input-path example/data/238_otu_table.biom \\\n",
    "    --output-path example/data/88soils.biom.qza \\\n",
    "    --type FeatureTable[Frequency]"
   ],
   "metadata": {
    "collapsed": false,
    "pycharm": {
     "name": "#%%\n"
    }
   }
  },
  {
   "cell_type": "markdown",
   "source": [
    "### Select top-100 OTUs"
   ],
   "metadata": {
    "collapsed": false,
    "pycharm": {
     "name": "#%% md\n"
    }
   }
  },
  {
   "cell_type": "code",
   "execution_count": null,
   "outputs": [],
   "source": [
    "!qiime feature-table filter-features \\\n",
    "    --i-table example/data/88soils.biom.qza \\\n",
    "    --o-filtered-table example/data/88soils_filt100.biom.qza \\\n",
    "    --p-min-frequency 100"
   ],
   "metadata": {
    "collapsed": false,
    "pycharm": {
     "name": "#%%\n"
    }
   }
  },
  {
   "cell_type": "markdown",
   "source": [
    "### Change zeros to 1"
   ],
   "metadata": {
    "collapsed": false,
    "pycharm": {
     "name": "#%% md\n"
    }
   }
  },
  {
   "cell_type": "code",
   "execution_count": null,
   "outputs": [],
   "source": [
    "!qiime composition add-pseudocount \\\n",
    "                    --i-table example/data/88soils_filt100.biom.qza \\\n",
    "                    --p-pseudocount 1 \\\n",
    "                    --o-composition-table example/data/88soils_composition.biom.qza"
   ],
   "metadata": {
    "collapsed": false,
    "pycharm": {
     "name": "#%%\n"
    }
   }
  },
  {
   "cell_type": "markdown",
   "source": [
    "### Make data compositional and transform it with CLR"
   ],
   "metadata": {
    "collapsed": false,
    "pycharm": {
     "name": "#%% md\n"
    }
   }
  },
  {
   "cell_type": "code",
   "execution_count": null,
   "outputs": [],
   "source": [
    "!qiime gglasso transform-features \\\n",
    "     --p-transformation clr \\\n",
    "     --i-table example/data/88soils_composition.biom.qza \\\n",
    "     --o-transformed-table example/data/88soils_clr.biom.qza"
   ],
   "metadata": {
    "collapsed": false,
    "pycharm": {
     "name": "#%%\n"
    }
   }
  },
  {
   "cell_type": "markdown",
   "source": [
    "### Export clr-transformed data"
   ],
   "metadata": {
    "collapsed": false,
    "pycharm": {
     "name": "#%% md\n"
    }
   }
  },
  {
   "cell_type": "code",
   "execution_count": null,
   "outputs": [],
   "source": [
    "!qiime tools export \\\n",
    "  --input-path example/data/88soils_clr.biom.qza \\\n",
    "  --output-path example/data/test_soil/88soils_clr"
   ],
   "metadata": {
    "collapsed": false,
    "pycharm": {
     "name": "#%%\n"
    }
   }
  },
  {
   "cell_type": "code",
   "execution_count": null,
   "outputs": [],
   "source": [
    "!biom convert -i example/data/test_soil/88soils_clr/feature-table.biom -o example/data/test_soil/88soils_clr/clr_feature-table.tsv --to-tsv\n",
    "remove_biom_header(file_path=\"example/data/test_soil/88soils_clr/clr_feature-table.tsv\")"
   ],
   "metadata": {
    "collapsed": false,
    "pycharm": {
     "name": "#%%\n"
    }
   }
  },
  {
   "cell_type": "markdown",
   "source": [
    "### Calculate covariance matrix (scaled)"
   ],
   "metadata": {
    "collapsed": false,
    "pycharm": {
     "name": "#%% md\n"
    }
   }
  },
  {
   "cell_type": "code",
   "execution_count": null,
   "outputs": [],
   "source": [
    "#correlation\n",
    "!qiime gglasso calculate-covariance \\\n",
    "     --p-method scaled \\\n",
    "     --i-table example/data/88soils_clr.biom.qza \\\n",
    "     --o-covariance-matrix example/data/88soils_corr.qza"
   ],
   "metadata": {
    "collapsed": false,
    "pycharm": {
     "name": "#%%\n"
    }
   }
  },
  {
   "cell_type": "markdown",
   "source": [
    "### Estimate low-rank solution with optimal lambda"
   ],
   "metadata": {
    "collapsed": false,
    "pycharm": {
     "name": "#%% md\n"
    }
   }
  },
  {
   "cell_type": "code",
   "execution_count": null,
   "outputs": [],
   "source": [
    "!qiime gglasso solve-problem \\\n",
    "     --p-lambda1 0.22758 \\\n",
    "     --i-covariance-matrix example/data/88soils_corr.qza \\\n",
    "     --o-inverse-covariance-matrix example/data/88soils_low.qza"
   ],
   "metadata": {
    "collapsed": false,
    "pycharm": {
     "name": "#%%\n"
    }
   }
  },
  {
   "cell_type": "markdown",
   "source": [
    "### Export low-rank solution"
   ],
   "metadata": {
    "collapsed": false,
    "pycharm": {
     "name": "#%% md\n"
    }
   }
  },
  {
   "cell_type": "code",
   "execution_count": null,
   "outputs": [],
   "source": [
    "!qiime tools export \\\n",
    "  --input-path example/data/88soils_low.qza \\\n",
    "  --output-path example/data/test_soil/88soils_low"
   ],
   "metadata": {
    "collapsed": false,
    "pycharm": {
     "name": "#%%\n"
    }
   }
  },
  {
   "cell_type": "markdown",
   "source": [
    "### Metadata"
   ],
   "metadata": {
    "collapsed": false,
    "pycharm": {
     "name": "#%% md\n"
    }
   }
  },
  {
   "cell_type": "code",
   "execution_count": null,
   "outputs": [],
   "source": [
    "mapping = pd.read_table('example/data/88soils_metadata.txt', index_col=0)\n",
    "mapping['ph_rounded'] = mapping.ph.apply(int)\n",
    "\n",
    "#original clr-transformed data\n",
    "df = pd.read_csv(str(\"example/data/test_soil/88soils_clr/clr_feature-table.tsv\"), index_col=0, sep='\\t')\n",
    "\n",
    "ph = mapping['ph'].reindex(df.index)\n",
    "temperature = mapping[\"annual_season_temp\"].reindex(ph.index)\n",
    "\n",
    "depth = df.sum(axis=1)"
   ],
   "metadata": {
    "collapsed": false,
    "pycharm": {
     "name": "#%%\n"
    }
   }
  },
  {
   "cell_type": "markdown",
   "source": [
    "### robust PCA"
   ],
   "metadata": {
    "collapsed": false,
    "pycharm": {
     "name": "#%% md\n"
    }
   }
  },
  {
   "cell_type": "code",
   "execution_count": null,
   "outputs": [],
   "source": [
    "### low-rank solution\n",
    "L = pd.read_csv(str(\"example/data/test_soil/88soils_low/pairwise_comparisons.tsv\"), index_col=0, sep='\\t')\n",
    "\n",
    "proj, loadings, eigv = robust_PCA(df, L, inverse=True)\n",
    "r = np.linalg.matrix_rank(L)"
   ],
   "metadata": {
    "collapsed": false,
    "pycharm": {
     "name": "#%%\n"
    }
   }
  },
  {
   "cell_type": "markdown",
   "source": [
    "### Plot pH"
   ],
   "metadata": {
    "collapsed": false,
    "pycharm": {
     "name": "#%% md\n"
    }
   }
  },
  {
   "cell_type": "code",
   "execution_count": null,
   "outputs": [],
   "source": [
    "fig, ax = plt.subplots(1,1)\n",
    "im = ax.scatter(proj[:,0], ph, c = depth, cmap = plt.cm.Blues, vmin = 0)\n",
    "cbar = fig.colorbar(im)\n",
    "cbar.set_label(\"Sampling depth\")\n",
    "ax.set_xlabel(f\"PCA component 1 with eigenvalue {eigv[0]}\")\n",
    "ax.set_ylabel(\"pH\")\n",
    "plt.savefig('example/data/ph.png')"
   ],
   "metadata": {
    "collapsed": false,
    "pycharm": {
     "name": "#%%\n"
    }
   }
  },
  {
   "cell_type": "code",
   "execution_count": null,
   "outputs": [],
   "source": [
    "print(\"Spearman correlation between pH and 1st component: {0}, p-value: {1}\".format(stats.spearmanr(ph, proj[:,0])[0],\n",
    "                                                                              stats.spearmanr(ph, proj[:,0])[1]))"
   ],
   "metadata": {
    "collapsed": false,
    "pycharm": {
     "name": "#%%\n"
    }
   }
  },
  {
   "cell_type": "markdown",
   "source": [
    "### Plot temperature"
   ],
   "metadata": {
    "collapsed": false,
    "pycharm": {
     "name": "#%% md\n"
    }
   }
  },
  {
   "cell_type": "code",
   "execution_count": null,
   "outputs": [],
   "source": [
    "fig, ax = plt.subplots(1,1)\n",
    "im = ax.scatter(proj[:,1], temperature, c = depth, cmap = plt.cm.Blues, vmin = 0)\n",
    "cbar = fig.colorbar(im)\n",
    "cbar.set_label(\"Sampling depth\")\n",
    "ax.set_xlabel(f\"PCA component 2 with eigenvalue {eigv[1]}\")\n",
    "ax.set_ylabel(\"Temperature\")\n",
    "plt.savefig('example/data/temp.png')"
   ],
   "metadata": {
    "collapsed": false,
    "pycharm": {
     "name": "#%%\n"
    }
   }
  },
  {
   "cell_type": "code",
   "execution_count": null,
   "outputs": [],
   "source": [
    "print(\"Spearman correlation between temperature and 2nd component: {0}, p-value: {1}\".format(stats.spearmanr(temperature, proj[:,1])[0],\n",
    "                                                                              stats.spearmanr(temperature, proj[:,1])[1]))"
   ],
   "metadata": {
    "collapsed": false,
    "pycharm": {
     "name": "#%%\n"
    }
   }
  }
 ],
 "metadata": {
  "kernelspec": {
   "display_name": "Python 3",
   "language": "python",
   "name": "python3"
  },
  "language_info": {
   "codemirror_mode": {
    "name": "ipython",
    "version": 2
   },
   "file_extension": ".py",
   "mimetype": "text/x-python",
   "name": "python",
   "nbconvert_exporter": "python",
   "pygments_lexer": "ipython2",
   "version": "2.7.6"
  }
 },
 "nbformat": 4,
 "nbformat_minor": 0
}