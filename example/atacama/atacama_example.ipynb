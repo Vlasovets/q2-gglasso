{
 "cells": [
  {
   "cell_type": "code",
   "execution_count": 27,
   "metadata": {
    "collapsed": true
   },
   "outputs": [
    {
     "name": "stdout",
     "output_type": "stream",
     "text": [
      "running install\r\n",
      "/opt/conda/envs/qiime2-2022.2/lib/python3.8/site-packages/setuptools/command/install.py:34: SetuptoolsDeprecationWarning: setup.py install is deprecated. Use build and pip and other standards-based tools.\r\n",
      "  warnings.warn(\r\n",
      "/opt/conda/envs/qiime2-2022.2/lib/python3.8/site-packages/setuptools/command/easy_install.py:156: EasyInstallDeprecationWarning: easy_install command is deprecated. Use build and pip and other standards-based tools.\r\n",
      "  warnings.warn(\r\n",
      "running bdist_egg\r\n",
      "running egg_info\r\n",
      "writing q2_gglasso.egg-info/PKG-INFO\r\n",
      "writing dependency_links to q2_gglasso.egg-info/dependency_links.txt\r\n",
      "writing entry points to q2_gglasso.egg-info/entry_points.txt\r\n",
      "writing top-level names to q2_gglasso.egg-info/top_level.txt\r\n",
      "reading manifest file 'q2_gglasso.egg-info/SOURCES.txt'\r\n",
      "adding license file 'LICENSE'\r\n",
      "writing manifest file 'q2_gglasso.egg-info/SOURCES.txt'\r\n",
      "installing library code to build/bdist.linux-x86_64/egg\r\n",
      "running install_lib\r\n",
      "running build_py\r\n",
      "creating build/bdist.linux-x86_64/egg\r\n",
      "creating build/bdist.linux-x86_64/egg/q2_gglasso\r\n",
      "copying build/lib/q2_gglasso/_dict.py -> build/bdist.linux-x86_64/egg/q2_gglasso\r\n",
      "creating build/bdist.linux-x86_64/egg/q2_gglasso/_heatmap\r\n",
      "copying build/lib/q2_gglasso/_heatmap/_visualizer.py -> build/bdist.linux-x86_64/egg/q2_gglasso/_heatmap\r\n",
      "copying build/lib/q2_gglasso/_heatmap/__init__.py -> build/bdist.linux-x86_64/egg/q2_gglasso/_heatmap\r\n",
      "creating build/bdist.linux-x86_64/egg/q2_gglasso/_heatmap/assets\r\n",
      "copying build/lib/q2_gglasso/_heatmap/assets/index.html -> build/bdist.linux-x86_64/egg/q2_gglasso/_heatmap/assets\r\n",
      "copying build/lib/q2_gglasso/utils.py -> build/bdist.linux-x86_64/egg/q2_gglasso\r\n",
      "copying build/lib/q2_gglasso/_transformer.py -> build/bdist.linux-x86_64/egg/q2_gglasso\r\n",
      "copying build/lib/q2_gglasso/_format.py -> build/bdist.linux-x86_64/egg/q2_gglasso\r\n",
      "copying build/lib/q2_gglasso/_func.py -> build/bdist.linux-x86_64/egg/q2_gglasso\r\n",
      "creating build/bdist.linux-x86_64/egg/q2_gglasso/tests\r\n",
      "copying build/lib/q2_gglasso/tests/test_problem.py -> build/bdist.linux-x86_64/egg/q2_gglasso/tests\r\n",
      "copying build/lib/q2_gglasso/tests/test_covariance.py -> build/bdist.linux-x86_64/egg/q2_gglasso/tests\r\n",
      "copying build/lib/q2_gglasso/tests/test_plugin_setup.py -> build/bdist.linux-x86_64/egg/q2_gglasso/tests\r\n",
      "copying build/lib/q2_gglasso/tests/test_type.py -> build/bdist.linux-x86_64/egg/q2_gglasso/tests\r\n",
      "copying build/lib/q2_gglasso/tests/test_correlation.py -> build/bdist.linux-x86_64/egg/q2_gglasso/tests\r\n",
      "copying build/lib/q2_gglasso/tests/__init__.py -> build/bdist.linux-x86_64/egg/q2_gglasso/tests\r\n",
      "copying build/lib/q2_gglasso/tests/test_utils.py -> build/bdist.linux-x86_64/egg/q2_gglasso/tests\r\n",
      "copying build/lib/q2_gglasso/plugin_setup.py -> build/bdist.linux-x86_64/egg/q2_gglasso\r\n",
      "copying build/lib/q2_gglasso/_type.py -> build/bdist.linux-x86_64/egg/q2_gglasso\r\n",
      "copying build/lib/q2_gglasso/__init__.py -> build/bdist.linux-x86_64/egg/q2_gglasso\r\n",
      "copying build/lib/q2_gglasso/test.py -> build/bdist.linux-x86_64/egg/q2_gglasso\r\n",
      "byte-compiling build/bdist.linux-x86_64/egg/q2_gglasso/_dict.py to _dict.cpython-38.pyc\r\n",
      "byte-compiling build/bdist.linux-x86_64/egg/q2_gglasso/_heatmap/_visualizer.py to _visualizer.cpython-38.pyc\r\n",
      "byte-compiling build/bdist.linux-x86_64/egg/q2_gglasso/_heatmap/__init__.py to __init__.cpython-38.pyc\r\n",
      "byte-compiling build/bdist.linux-x86_64/egg/q2_gglasso/utils.py to utils.cpython-38.pyc\r\n",
      "byte-compiling build/bdist.linux-x86_64/egg/q2_gglasso/_transformer.py to _transformer.cpython-38.pyc\r\n",
      "byte-compiling build/bdist.linux-x86_64/egg/q2_gglasso/_format.py to _format.cpython-38.pyc\r\n",
      "byte-compiling build/bdist.linux-x86_64/egg/q2_gglasso/_func.py to _func.cpython-38.pyc\r\n",
      "byte-compiling build/bdist.linux-x86_64/egg/q2_gglasso/tests/test_problem.py to test_problem.cpython-38.pyc\r\n",
      "byte-compiling build/bdist.linux-x86_64/egg/q2_gglasso/tests/test_covariance.py to test_covariance.cpython-38.pyc\r\n",
      "byte-compiling build/bdist.linux-x86_64/egg/q2_gglasso/tests/test_plugin_setup.py to test_plugin_setup.cpython-38.pyc\r\n",
      "byte-compiling build/bdist.linux-x86_64/egg/q2_gglasso/tests/test_type.py to test_type.cpython-38.pyc\r\n",
      "byte-compiling build/bdist.linux-x86_64/egg/q2_gglasso/tests/test_correlation.py to test_correlation.cpython-38.pyc\r\n",
      "byte-compiling build/bdist.linux-x86_64/egg/q2_gglasso/tests/__init__.py to __init__.cpython-38.pyc\r\n",
      "byte-compiling build/bdist.linux-x86_64/egg/q2_gglasso/tests/test_utils.py to test_utils.cpython-38.pyc\r\n",
      "byte-compiling build/bdist.linux-x86_64/egg/q2_gglasso/plugin_setup.py to plugin_setup.cpython-38.pyc\r\n",
      "byte-compiling build/bdist.linux-x86_64/egg/q2_gglasso/_type.py to _type.cpython-38.pyc\r\n",
      "byte-compiling build/bdist.linux-x86_64/egg/q2_gglasso/__init__.py to __init__.cpython-38.pyc\r\n",
      "byte-compiling build/bdist.linux-x86_64/egg/q2_gglasso/test.py to test.cpython-38.pyc\r\n",
      "creating build/bdist.linux-x86_64/egg/EGG-INFO\r\n",
      "copying q2_gglasso.egg-info/PKG-INFO -> build/bdist.linux-x86_64/egg/EGG-INFO\r\n",
      "copying q2_gglasso.egg-info/SOURCES.txt -> build/bdist.linux-x86_64/egg/EGG-INFO\r\n",
      "copying q2_gglasso.egg-info/dependency_links.txt -> build/bdist.linux-x86_64/egg/EGG-INFO\r\n",
      "copying q2_gglasso.egg-info/entry_points.txt -> build/bdist.linux-x86_64/egg/EGG-INFO\r\n",
      "copying q2_gglasso.egg-info/not-zip-safe -> build/bdist.linux-x86_64/egg/EGG-INFO\r\n",
      "copying q2_gglasso.egg-info/top_level.txt -> build/bdist.linux-x86_64/egg/EGG-INFO\r\n",
      "creating 'dist/q2_gglasso-0.0.0.dev0-py3.8.egg' and adding 'build/bdist.linux-x86_64/egg' to it\r\n",
      "removing 'build/bdist.linux-x86_64/egg' (and everything under it)\r\n",
      "Processing q2_gglasso-0.0.0.dev0-py3.8.egg\r\n",
      "removing '/opt/conda/envs/qiime2-2022.2/lib/python3.8/site-packages/q2_gglasso-0.0.0.dev0-py3.8.egg' (and everything under it)\r\n",
      "creating /opt/conda/envs/qiime2-2022.2/lib/python3.8/site-packages/q2_gglasso-0.0.0.dev0-py3.8.egg\r\n",
      "Extracting q2_gglasso-0.0.0.dev0-py3.8.egg to /opt/conda/envs/qiime2-2022.2/lib/python3.8/site-packages\r\n",
      "q2-gglasso 0.0.0.dev0 is already the active version in easy-install.pth\r\n",
      "\r\n",
      "Installed /opt/conda/envs/qiime2-2022.2/lib/python3.8/site-packages/q2_gglasso-0.0.0.dev0-py3.8.egg\r\n",
      "Processing dependencies for q2-gglasso==0.0.0.dev0\r\n",
      "Finished processing dependencies for q2-gglasso==0.0.0.dev0\r\n",
      "\u001B[33mQIIME is caching your current deployment for improved performance. This may take a few moments and should only happen once per deployment.\u001B[0m\r\n",
      "['/opt/conda/envs/qiime2-2022.2/bin', '/opt/conda/envs/qiime2-2022.2/lib/python38.zip', '/opt/conda/envs/qiime2-2022.2/lib/python3.8', '/opt/conda/envs/qiime2-2022.2/lib/python3.8/lib-dynload', '/opt/conda/envs/qiime2-2022.2/lib/python3.8/site-packages', '/opt/conda/envs/qiime2-2022.2/lib/python3.8/site-packages/q2_gglasso-0.0.0.dev0-py3.8.egg', '/opt/project']\r\n",
      "\u001B[0m"
     ]
    }
   ],
   "source": [
    "# cd to the root directory\n",
    "!python setup.py install\n",
    "!qiime dev refresh-cache"
   ]
  },
  {
   "cell_type": "code",
   "execution_count": 28,
   "outputs": [],
   "source": [
    "import pandas as pd\n",
    "import numpy as np\n",
    "import qiime2 as q2\n",
    "\n",
    "\n",
    "import matplotlib.pyplot as plt\n",
    "from scipy import stats\n",
    "\n",
    "from q2_gglasso.utils import PCA, remove_biom_header"
   ],
   "metadata": {
    "collapsed": false,
    "pycharm": {
     "name": "#%%\n"
    }
   }
  },
  {
   "cell_type": "code",
   "execution_count": 31,
   "outputs": [
    {
     "name": "stdout",
     "output_type": "stream",
     "text": [
      "['/opt/conda/envs/qiime2-2022.2/bin', '/opt/conda/envs/qiime2-2022.2/lib/python38.zip', '/opt/conda/envs/qiime2-2022.2/lib/python3.8', '/opt/conda/envs/qiime2-2022.2/lib/python3.8/lib-dynload', '/opt/conda/envs/qiime2-2022.2/lib/python3.8/site-packages', '/opt/conda/envs/qiime2-2022.2/lib/python3.8/site-packages/q2_gglasso-0.0.0.dev0-py3.8.egg', '/opt/project']\r\n",
      "\u001B[32mImported example/data/atacama/emp-paired-end-sequences as EMPPairedEndDirFmt to example/data/atacama/emp-paired-end-sequences.qza\u001B[0m\r\n",
      "\u001B[0m"
     ]
    }
   ],
   "source": [
    "!qiime tools import \\\n",
    "   --type EMPPairedEndSequences \\\n",
    "   --input-path example/data/atacama/emp-paired-end-sequences \\\n",
    "   --output-path example/data/atacama/emp-paired-end-sequences.qza"
   ],
   "metadata": {
    "collapsed": false,
    "pycharm": {
     "name": "#%%\n"
    }
   }
  },
  {
   "cell_type": "code",
   "execution_count": 32,
   "outputs": [
    {
     "name": "stdout",
     "output_type": "stream",
     "text": [
      "['/opt/conda/envs/qiime2-2022.2/bin', '/opt/conda/envs/qiime2-2022.2/lib/python38.zip', '/opt/conda/envs/qiime2-2022.2/lib/python3.8', '/opt/conda/envs/qiime2-2022.2/lib/python3.8/lib-dynload', '/opt/conda/envs/qiime2-2022.2/lib/python3.8/site-packages', '/opt/conda/envs/qiime2-2022.2/lib/python3.8/site-packages/q2_gglasso-0.0.0.dev0-py3.8.egg', '/opt/project']\r\n",
      "\u001B[32mSaved SampleData[PairedEndSequencesWithQuality] to: example/data/atacama/demux-full.qza\u001B[0m\r\n",
      "\u001B[32mSaved ErrorCorrectionDetails to: example/data/atacama/demux-details.qza\u001B[0m\r\n",
      "\u001B[0m"
     ]
    }
   ],
   "source": [
    "!qiime demux emp-paired \\\n",
    "  --m-barcodes-file example/data/atacama/sample-metadata.tsv \\\n",
    "  --m-barcodes-column barcode-sequence \\\n",
    "  --p-rev-comp-mapping-barcodes \\\n",
    "  --i-seqs example/data/atacama/emp-paired-end-sequences.qza \\\n",
    "  --o-per-sample-sequences example/data/atacama/demux-full.qza \\\n",
    "  --o-error-correction-details example/data/atacama/demux-details.qza"
   ],
   "metadata": {
    "collapsed": false,
    "pycharm": {
     "name": "#%%\n"
    }
   }
  },
  {
   "cell_type": "code",
   "execution_count": 33,
   "outputs": [
    {
     "name": "stdout",
     "output_type": "stream",
     "text": [
      "['/opt/conda/envs/qiime2-2022.2/bin', '/opt/conda/envs/qiime2-2022.2/lib/python38.zip', '/opt/conda/envs/qiime2-2022.2/lib/python3.8', '/opt/conda/envs/qiime2-2022.2/lib/python3.8/lib-dynload', '/opt/conda/envs/qiime2-2022.2/lib/python3.8/site-packages', '/opt/conda/envs/qiime2-2022.2/lib/python3.8/site-packages/q2_gglasso-0.0.0.dev0-py3.8.egg', '/opt/project']\r\n",
      "\u001B[32mSaved Visualization to: example/data/atacama/demux-full.qzv\u001B[0m\r\n",
      "\u001B[0m"
     ]
    }
   ],
   "source": [
    "!qiime demux summarize \\\n",
    "  --i-data example/data/atacama/demux-full.qza \\\n",
    "  --o-visualization example/data/atacama/demux-full.qzv"
   ],
   "metadata": {
    "collapsed": false,
    "pycharm": {
     "name": "#%%\n"
    }
   }
  },
  {
   "cell_type": "code",
   "execution_count": 34,
   "outputs": [
    {
     "name": "stdout",
     "output_type": "stream",
     "text": [
      "\u001B[32mExported example/data/atacama/demux-full.qzv as Visualization to directory example/data/atacama/demux-full/\u001B[0m\r\n"
     ]
    }
   ],
   "source": [
    "!qiime tools export \\\n",
    "  --input-path example/data/atacama/demux-full.qzv \\\n",
    "  --output-path example/data/atacama/demux-full/"
   ],
   "metadata": {
    "collapsed": false,
    "pycharm": {
     "name": "#%%\n"
    }
   }
  },
  {
   "cell_type": "code",
   "execution_count": 35,
   "outputs": [
    {
     "name": "stdout",
     "output_type": "stream",
     "text": [
      "['/opt/conda/envs/qiime2-2022.2/bin', '/opt/conda/envs/qiime2-2022.2/lib/python38.zip', '/opt/conda/envs/qiime2-2022.2/lib/python3.8', '/opt/conda/envs/qiime2-2022.2/lib/python3.8/lib-dynload', '/opt/conda/envs/qiime2-2022.2/lib/python3.8/site-packages', '/opt/conda/envs/qiime2-2022.2/lib/python3.8/site-packages/q2_gglasso-0.0.0.dev0-py3.8.egg', '/opt/project']\r\n",
      "\u001B[32mSaved SampleData[PairedEndSequencesWithQuality] to: example/data/atacama/demux.qza\u001B[0m\r\n",
      "\u001B[0m"
     ]
    }
   ],
   "source": [
    "!qiime demux filter-samples \\\n",
    "  --i-demux example/data/atacama/demux-full.qza \\\n",
    "  --m-metadata-file example/data/atacama/demux-full/per-sample-fastq-counts.tsv \\\n",
    "  --p-where 'CAST([forward sequence count] AS INT) > 100' \\\n",
    "  --o-filtered-demux example/data/atacama/demux.qza"
   ],
   "metadata": {
    "collapsed": false,
    "pycharm": {
     "name": "#%%\n"
    }
   }
  },
  {
   "cell_type": "code",
   "execution_count": 36,
   "outputs": [
    {
     "name": "stdout",
     "output_type": "stream",
     "text": [
      "['/opt/conda/envs/qiime2-2022.2/bin', '/opt/conda/envs/qiime2-2022.2/lib/python38.zip', '/opt/conda/envs/qiime2-2022.2/lib/python3.8', '/opt/conda/envs/qiime2-2022.2/lib/python3.8/lib-dynload', '/opt/conda/envs/qiime2-2022.2/lib/python3.8/site-packages', '/opt/conda/envs/qiime2-2022.2/lib/python3.8/site-packages/q2_gglasso-0.0.0.dev0-py3.8.egg', '/opt/project']\r\n",
      "\u001B[32mSaved FeatureTable[Frequency] to: example/data/atacama/table.qza\u001B[0m\r\n",
      "\u001B[32mSaved FeatureData[Sequence] to: example/data/atacama/rep-seqs.qza\u001B[0m\r\n",
      "\u001B[32mSaved SampleData[DADA2Stats] to: example/data/atacama/denoising-stats.qza\u001B[0m\r\n",
      "\u001B[0m"
     ]
    }
   ],
   "source": [
    "!qiime dada2 denoise-paired \\\n",
    "  --i-demultiplexed-seqs example/data/atacama/demux.qza \\\n",
    "  --p-trim-left-f 13 \\\n",
    "  --p-trim-left-r 13 \\\n",
    "  --p-trunc-len-f 150 \\\n",
    "  --p-trunc-len-r 150 \\\n",
    "  --o-table example/data/atacama/table.qza \\\n",
    "  --o-representative-sequences example/data/atacama/rep-seqs.qza \\\n",
    "  --o-denoising-stats example/data/atacama/denoising-stats.qza"
   ],
   "metadata": {
    "collapsed": false,
    "pycharm": {
     "name": "#%%\n"
    }
   }
  },
  {
   "cell_type": "code",
   "execution_count": 37,
   "outputs": [
    {
     "name": "stdout",
     "output_type": "stream",
     "text": [
      "['/opt/conda/envs/qiime2-2022.2/bin', '/opt/conda/envs/qiime2-2022.2/lib/python38.zip', '/opt/conda/envs/qiime2-2022.2/lib/python3.8', '/opt/conda/envs/qiime2-2022.2/lib/python3.8/lib-dynload', '/opt/conda/envs/qiime2-2022.2/lib/python3.8/site-packages', '/opt/conda/envs/qiime2-2022.2/lib/python3.8/site-packages/q2_gglasso-0.0.0.dev0-py3.8.egg', '/opt/project']\r\n",
      "\u001B[32mSaved Visualization to: example/data/atacama/table.qzv\u001B[0m\r\n",
      "\u001B[0m"
     ]
    }
   ],
   "source": [
    "!qiime feature-table summarize \\\n",
    "  --i-table example/data/atacama/table.qza \\\n",
    "  --o-visualization example/data/atacama/table.qzv \\\n",
    "  --m-sample-metadata-file example/data/atacama/sample-metadata.tsv"
   ],
   "metadata": {
    "collapsed": false,
    "pycharm": {
     "name": "#%%\n"
    }
   }
  },
  {
   "cell_type": "code",
   "execution_count": 38,
   "outputs": [
    {
     "name": "stdout",
     "output_type": "stream",
     "text": [
      "['/opt/conda/envs/qiime2-2022.2/bin', '/opt/conda/envs/qiime2-2022.2/lib/python38.zip', '/opt/conda/envs/qiime2-2022.2/lib/python3.8', '/opt/conda/envs/qiime2-2022.2/lib/python3.8/lib-dynload', '/opt/conda/envs/qiime2-2022.2/lib/python3.8/site-packages', '/opt/conda/envs/qiime2-2022.2/lib/python3.8/site-packages/q2_gglasso-0.0.0.dev0-py3.8.egg', '/opt/project']\r\n",
      "\u001B[32mSaved Visualization to: example/data/atacama/rep-seqs.qzv\u001B[0m\r\n",
      "\u001B[0m"
     ]
    }
   ],
   "source": [
    "!qiime feature-table tabulate-seqs \\\n",
    "  --i-data example/data/atacama/rep-seqs.qza \\\n",
    "  --o-visualization example/data/atacama/rep-seqs.qzv"
   ],
   "metadata": {
    "collapsed": false,
    "pycharm": {
     "name": "#%%\n"
    }
   }
  },
  {
   "cell_type": "code",
   "execution_count": 39,
   "outputs": [
    {
     "name": "stdout",
     "output_type": "stream",
     "text": [
      "['/opt/conda/envs/qiime2-2022.2/bin', '/opt/conda/envs/qiime2-2022.2/lib/python38.zip', '/opt/conda/envs/qiime2-2022.2/lib/python3.8', '/opt/conda/envs/qiime2-2022.2/lib/python3.8/lib-dynload', '/opt/conda/envs/qiime2-2022.2/lib/python3.8/site-packages', '/opt/conda/envs/qiime2-2022.2/lib/python3.8/site-packages/q2_gglasso-0.0.0.dev0-py3.8.egg', '/opt/project']\r\n",
      "\u001B[32mSaved Visualization to: example/data/atacama/denoising-stats.qzv\u001B[0m\r\n",
      "\u001B[0m"
     ]
    }
   ],
   "source": [
    "!qiime metadata tabulate \\\n",
    "  --m-input-file example/data/atacama/denoising-stats.qza \\\n",
    "  --o-visualization example/data/atacama/denoising-stats.qzv"
   ],
   "metadata": {
    "collapsed": false,
    "pycharm": {
     "name": "#%%\n"
    }
   }
  },
  {
   "cell_type": "code",
   "execution_count": 40,
   "outputs": [
    {
     "name": "stdout",
     "output_type": "stream",
     "text": [
      "['/opt/conda/envs/qiime2-2022.2/bin', '/opt/conda/envs/qiime2-2022.2/lib/python38.zip', '/opt/conda/envs/qiime2-2022.2/lib/python3.8', '/opt/conda/envs/qiime2-2022.2/lib/python3.8/lib-dynload', '/opt/conda/envs/qiime2-2022.2/lib/python3.8/site-packages', '/opt/conda/envs/qiime2-2022.2/lib/python3.8/site-packages/q2_gglasso-0.0.0.dev0-py3.8.egg', '/opt/project']\r\n",
      "\u001B[32mSaved FeatureTable[Composition] to: example/data/atacama/table_composition.qza\u001B[0m\r\n",
      "\u001B[0m"
     ]
    }
   ],
   "source": [
    "!qiime composition add-pseudocount \\\n",
    "                    --i-table example/data/atacama/table.qza \\\n",
    "                    --p-pseudocount 1 \\\n",
    "                    --o-composition-table example/data/atacama/table_composition.qza"
   ],
   "metadata": {
    "collapsed": false,
    "pycharm": {
     "name": "#%%\n"
    }
   }
  },
  {
   "cell_type": "code",
   "execution_count": 41,
   "outputs": [
    {
     "name": "stdout",
     "output_type": "stream",
     "text": [
      "['/opt/conda/envs/qiime2-2022.2/bin', '/opt/conda/envs/qiime2-2022.2/lib/python38.zip', '/opt/conda/envs/qiime2-2022.2/lib/python3.8', '/opt/conda/envs/qiime2-2022.2/lib/python3.8/lib-dynload', '/opt/conda/envs/qiime2-2022.2/lib/python3.8/site-packages', '/opt/conda/envs/qiime2-2022.2/lib/python3.8/site-packages/q2_gglasso-0.0.0.dev0-py3.8.egg', '/opt/project']\r\n",
      "\u001B[32mSaved FeatureTable[Composition] to: example/data/atacama/table_clr.qza\u001B[0m\r\n",
      "\u001B[0m"
     ]
    }
   ],
   "source": [
    "!qiime gglasso transform-features \\\n",
    "     --p-transformation clr \\\n",
    "     --i-table example/data/atacama/table_composition.qza \\\n",
    "     --o-transformed-table example/data/atacama/table_clr.qza"
   ],
   "metadata": {
    "collapsed": false,
    "pycharm": {
     "name": "#%%\n"
    }
   }
  },
  {
   "cell_type": "code",
   "execution_count": 42,
   "outputs": [
    {
     "name": "stdout",
     "output_type": "stream",
     "text": [
      "['/opt/conda/envs/qiime2-2022.2/bin', '/opt/conda/envs/qiime2-2022.2/lib/python38.zip', '/opt/conda/envs/qiime2-2022.2/lib/python3.8', '/opt/conda/envs/qiime2-2022.2/lib/python3.8/lib-dynload', '/opt/conda/envs/qiime2-2022.2/lib/python3.8/site-packages', '/opt/conda/envs/qiime2-2022.2/lib/python3.8/site-packages/q2_gglasso-0.0.0.dev0-py3.8.egg', '/opt/project']\r\n",
      "\u001B[32mSaved PairwiseFeatureData to: example/data/atacama/table_corr.qza\u001B[0m\r\n",
      "\u001B[0m"
     ]
    }
   ],
   "source": [
    "!qiime gglasso calculate-covariance \\\n",
    "     --p-method scaled \\\n",
    "     --i-table example/data/atacama/table_clr.qza \\\n",
    "     --o-covariance-matrix example/data/atacama/table_corr.qza"
   ],
   "metadata": {
    "collapsed": false,
    "pycharm": {
     "name": "#%%\n"
    }
   }
  },
  {
   "cell_type": "code",
   "execution_count": null,
   "outputs": [],
   "source": [
    "!qiime gglasso solve-problem \\\n",
    "     --p-lambda1 0.22758 \\\n",
    "     --p-latent True \\\n",
    "     --p-mu1 6.6 \\\n",
    "     --i-covariance-matrix example/data/atacama/table_corr.qza \\\n",
    "     --o-solution example/data/atacama/solution_low.qza \\\n",
    "     --verbose"
   ],
   "metadata": {
    "collapsed": false,
    "pycharm": {
     "name": "#%%\n"
    }
   }
  },
  {
   "cell_type": "markdown",
   "source": [
    "### Export"
   ],
   "metadata": {
    "collapsed": false,
    "pycharm": {
     "name": "#%% md\n"
    }
   }
  },
  {
   "cell_type": "code",
   "execution_count": null,
   "outputs": [],
   "source": [
    "!qiime tools export \\\n",
    "  --input-path example/data/atacama/table_clr.qza \\\n",
    "  --output-path example/data/atacama/test/table_clr"
   ],
   "metadata": {
    "collapsed": false,
    "pycharm": {
     "name": "#%%\n"
    }
   }
  },
  {
   "cell_type": "code",
   "execution_count": null,
   "outputs": [],
   "source": [
    "!qiime tools export \\\n",
    "  --input-path example/data/atacama/table_corr.qza \\\n",
    "  --output-path example/data/atacama/test/table_corr"
   ],
   "metadata": {
    "collapsed": false,
    "pycharm": {
     "name": "#%%\n"
    }
   }
  },
  {
   "cell_type": "code",
   "execution_count": null,
   "outputs": [],
   "source": [
    "!biom convert -i example/data/atacama/test/table_clr/feature-table.biom -o example/data/atacama/test/table_clr/clr_feature-table.tsv --to-tsv"
   ],
   "metadata": {
    "collapsed": false,
    "pycharm": {
     "name": "#%%\n"
    }
   }
  },
  {
   "cell_type": "code",
   "execution_count": null,
   "outputs": [],
   "source": [
    "remove_biom_header(file_path=\"example/data/atacama/test/table_clr/clr_feature-table.tsv\")"
   ],
   "metadata": {
    "collapsed": false,
    "pycharm": {
     "name": "#%%\n"
    }
   }
  }
 ],
 "metadata": {
  "kernelspec": {
   "display_name": "Python 3",
   "language": "python",
   "name": "python3"
  },
  "language_info": {
   "codemirror_mode": {
    "name": "ipython",
    "version": 2
   },
   "file_extension": ".py",
   "mimetype": "text/x-python",
   "name": "python",
   "nbconvert_exporter": "python",
   "pygments_lexer": "ipython2",
   "version": "2.7.6"
  }
 },
 "nbformat": 4,
 "nbformat_minor": 0
}