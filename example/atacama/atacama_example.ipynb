{
 "cells": [
  {
   "cell_type": "code",
   "execution_count": null,
   "metadata": {
    "pycharm": {
     "is_executing": true
    },
    "tags": []
   },
   "outputs": [],
   "source": [
    "# cd to the root directory\n",
    "!python setup.py install\n",
    "!qiime dev refresh-cache"
   ]
  },
  {
   "cell_type": "code",
   "execution_count": null,
   "metadata": {
    "collapsed": false,
    "jupyter": {
     "outputs_hidden": false
    },
    "pycharm": {
     "name": "#%%\n"
    }
   },
   "outputs": [],
   "source": [
    "import pandas as pd\n",
    "import numpy as np\n",
    "import qiime2 as q2\n",
    "import zarr\n",
    "import os\n",
    "\n",
    "\n",
    "import matplotlib.pyplot as plt\n",
    "from scipy import stats\n",
    "\n",
    "from q2_gglasso.utils import PCA, remove_biom_header"
   ]
  },
  {
   "cell_type": "markdown",
   "metadata": {
    "pycharm": {
     "name": "#%% md\n"
    }
   },
   "source": [
    "### Import data"
   ]
  },
  {
   "cell_type": "code",
   "execution_count": null,
   "metadata": {
    "collapsed": false,
    "jupyter": {
     "outputs_hidden": false
    },
    "pycharm": {
     "is_executing": true,
     "name": "#%%\n"
    }
   },
   "outputs": [],
   "source": [
    "!qiime tools import \\\n",
    "   --type EMPPairedEndSequences \\\n",
    "   --input-path data/atacama-emp-paired-end-sequences \\\n",
    "   --output-path data/atacama-emp-paired-end-sequences.qza"
   ]
  },
  {
   "cell_type": "markdown",
   "metadata": {
    "pycharm": {
     "name": "#%% md\n"
    }
   },
   "source": [
    "### Demultiplexing\n",
    "\"Demultiplexing\" refers to the step in processing where you'd use the barcode information in order to know which sequences came from which samples after they had all been sequenced together. In this data set, the barcode reads are the reverse complement of those included in the sample metadata file, so we additionally include the --p-rev-comp-mapping-barcodes parameter."
   ]
  },
  {
   "cell_type": "code",
   "execution_count": null,
   "metadata": {
    "collapsed": false,
    "jupyter": {
     "outputs_hidden": false
    },
    "pycharm": {
     "is_executing": true,
     "name": "#%%\n"
    }
   },
   "outputs": [],
   "source": [
    "!qiime demux emp-paired \\\n",
    "  --m-barcodes-file data/atacama-sample-metadata.tsv \\\n",
    "  --m-barcodes-column barcode-sequence \\\n",
    "  --p-rev-comp-mapping-barcodes \\\n",
    "  --i-seqs data/atacama-emp-paired-end-sequences.qza \\\n",
    "  --o-per-sample-sequences data/atacama-demux-full.qza \\\n",
    "  --o-error-correction-details data/atacama-demux-details.qza"
   ]
  },
  {
   "cell_type": "code",
   "execution_count": null,
   "metadata": {
    "collapsed": false,
    "jupyter": {
     "outputs_hidden": false
    },
    "pycharm": {
     "is_executing": true,
     "name": "#%%\n"
    }
   },
   "outputs": [],
   "source": [
    "!qiime demux summarize \\\n",
    "  --i-data data/atacama-demux-full.qza \\\n",
    "  --o-visualization data/atacama-demux-full.qzv"
   ]
  },
  {
   "cell_type": "code",
   "execution_count": null,
   "metadata": {
    "collapsed": false,
    "jupyter": {
     "outputs_hidden": false
    },
    "pycharm": {
     "name": "#%%\n"
    }
   },
   "outputs": [],
   "source": [
    "!qiime tools export \\\n",
    "  --input-path data/atacama-demux-full.qzv \\\n",
    "  --output-path data/atacama-demux-full/"
   ]
  },
  {
   "cell_type": "markdown",
   "metadata": {
    "pycharm": {
     "name": "#%% md\n"
    }
   },
   "source": [
    "### Filtering short sequences"
   ]
  },
  {
   "cell_type": "code",
   "execution_count": null,
   "metadata": {
    "collapsed": false,
    "jupyter": {
     "outputs_hidden": false
    },
    "pycharm": {
     "name": "#%%\n"
    }
   },
   "outputs": [],
   "source": [
    "!qiime demux subsample-paired \\\n",
    "  --i-sequences data/atacama-demux-full.qza \\\n",
    "  --p-fraction 0.3 \\\n",
    "  --o-subsampled-sequences data/atacama-demux-subsample.qza"
   ]
  },
  {
   "cell_type": "code",
   "execution_count": null,
   "metadata": {
    "collapsed": false,
    "jupyter": {
     "outputs_hidden": false
    },
    "pycharm": {
     "is_executing": true,
     "name": "#%%\n"
    }
   },
   "outputs": [],
   "source": [
    "!qiime demux filter-samples \\\n",
    "  --i-demux data/atacama-demux-subsample.qza \\\n",
    "  --m-metadata-file data/atacama-demux-full/per-sample-fastq-counts.tsv \\\n",
    "  --p-where 'CAST([forward sequence count] AS INT) > 100' \\\n",
    "  --o-filtered-demux data/atacama-demux_subsample.qza"
   ]
  },
  {
   "cell_type": "markdown",
   "metadata": {
    "pycharm": {
     "name": "#%% md\n"
    }
   },
   "source": [
    "### Denoising with DADA2\n",
    "use recommended trimming pararms"
   ]
  },
  {
   "cell_type": "code",
   "execution_count": null,
   "metadata": {
    "collapsed": false,
    "jupyter": {
     "outputs_hidden": false
    },
    "pycharm": {
     "is_executing": true,
     "name": "#%%\n"
    }
   },
   "outputs": [],
   "source": [
    "!qiime dada2 denoise-paired \\\n",
    "  --i-demultiplexed-seqs data/atacama-demux_subsample.qza \\\n",
    "  --p-trim-left-f 13 \\\n",
    "  --p-trim-left-r 13 \\\n",
    "  --p-trunc-len-f 150 \\\n",
    "  --p-trunc-len-r 150 \\\n",
    "  --o-table data/atacama-table.qza \\\n",
    "  --o-representative-sequences data/atacama-subsample-rep-seqs.qza \\\n",
    "  --o-denoising-stats data/atacama-subsample-denoising-stats.qza"
   ]
  },
  {
   "cell_type": "markdown",
   "metadata": {
    "pycharm": {
     "name": "#%% md\n"
    }
   },
   "source": [
    "### Summary of the feature table"
   ]
  },
  {
   "cell_type": "code",
   "execution_count": null,
   "metadata": {
    "collapsed": false,
    "jupyter": {
     "outputs_hidden": false
    },
    "pycharm": {
     "is_executing": true,
     "name": "#%%\n"
    }
   },
   "outputs": [],
   "source": [
    "!qiime feature-table summarize \\\n",
    "  --i-table data/atacama-table.qza \\\n",
    "  --o-visualization data/atacama-table.qzv \\\n",
    "  --m-sample-metadata-file data/atacama-sample-metadata.tsv"
   ]
  },
  {
   "cell_type": "markdown",
   "metadata": {
    "pycharm": {
     "name": "#%% md\n"
    }
   },
   "source": [
    "Check features and representative sequences"
   ]
  },
  {
   "cell_type": "code",
   "execution_count": null,
   "metadata": {
    "collapsed": false,
    "jupyter": {
     "outputs_hidden": false
    },
    "pycharm": {
     "is_executing": true,
     "name": "#%%\n"
    }
   },
   "outputs": [],
   "source": [
    "!qiime feature-table tabulate-seqs \\\n",
    "  --i-data data/atacama-rep-seqs.qza \\\n",
    "  --o-visualization data/atacama-rep-seqs.qzv"
   ]
  },
  {
   "cell_type": "markdown",
   "metadata": {
    "pycharm": {
     "name": "#%% md\n"
    }
   },
   "source": [
    "### Check denoising stats"
   ]
  },
  {
   "cell_type": "code",
   "execution_count": null,
   "metadata": {
    "collapsed": false,
    "jupyter": {
     "outputs_hidden": false
    },
    "pycharm": {
     "is_executing": true,
     "name": "#%%\n"
    }
   },
   "outputs": [],
   "source": [
    "!qiime metadata tabulate \\\n",
    "  --m-input-file data/atacama-denoising-stats.qza \\\n",
    "  --o-visualization data/atacama-denoising-stats.qzv"
   ]
  },
  {
   "cell_type": "markdown",
   "metadata": {
    "pycharm": {
     "name": "#%% md\n"
    }
   },
   "source": [
    "### Select top100 taxa"
   ]
  },
  {
   "cell_type": "code",
   "execution_count": null,
   "metadata": {
    "collapsed": false,
    "jupyter": {
     "outputs_hidden": false
    },
    "pycharm": {
     "name": "#%%\n"
    }
   },
   "outputs": [],
   "source": [
    "!qiime feature-table filter-features \\\n",
    "    --i-table data/atacama-table.qza \\\n",
    "    --o-filtered-table data/atacama-table.qza \\\n",
    "    --p-min-frequency 100"
   ]
  },
  {
   "cell_type": "markdown",
   "metadata": {},
   "source": [
    "### Taxonomy classification"
   ]
  },
  {
   "cell_type": "code",
   "execution_count": null,
   "metadata": {},
   "outputs": [],
   "source": [
    "!qiime feature-classifier classify-sklearn \\\n",
    "    --i-reads data/atacama-subsample-rep-seqs.qza \\\n",
    "    --i-classifier data/silva-138-99-nb-classifier.qza \\\n",
    "    --output-dir data/atacama-taxa"
   ]
  },
  {
   "cell_type": "code",
   "execution_count": null,
   "metadata": {},
   "outputs": [],
   "source": [
    "!qiime tools export \\\n",
    "    --input-path data/atacama-taxa/classification.qza \\\n",
    "    --output-path data/atacama-taxa/"
   ]
  },
  {
   "cell_type": "markdown",
   "metadata": {
    "pycharm": {
     "name": "#%% md\n"
    }
   },
   "source": [
    "### Replace zeros with ones"
   ]
  },
  {
   "cell_type": "code",
   "execution_count": null,
   "metadata": {
    "collapsed": false,
    "jupyter": {
     "outputs_hidden": false
    },
    "pycharm": {
     "is_executing": true,
     "name": "#%%\n"
    }
   },
   "outputs": [],
   "source": [
    "!qiime composition add-pseudocount \\\n",
    "                    --i-table data/atacama-table.qza \\\n",
    "                    --p-pseudocount 1 \\\n",
    "                    --o-composition-table data/atacama-table_composition.qza"
   ]
  },
  {
   "cell_type": "markdown",
   "metadata": {
    "pycharm": {
     "name": "#%% md\n"
    }
   },
   "source": [
    "### Transform compositional data with CLR"
   ]
  },
  {
   "cell_type": "code",
   "execution_count": null,
   "metadata": {
    "collapsed": false,
    "jupyter": {
     "outputs_hidden": false
    },
    "pycharm": {
     "is_executing": true,
     "name": "#%%\n"
    }
   },
   "outputs": [],
   "source": [
    "!qiime gglasso transform-features \\\n",
    "     --p-transformation clr \\\n",
    "     --i-table data/atacama-table_composition.qza \\\n",
    "     --o-transformed-table data/atacama-table_clr.qza"
   ]
  },
  {
   "cell_type": "code",
   "execution_count": null,
   "metadata": {
    "collapsed": false,
    "jupyter": {
     "outputs_hidden": false
    },
    "pycharm": {
     "is_executing": true,
     "name": "#%%\n"
    }
   },
   "outputs": [],
   "source": [
    "!qiime gglasso calculate-covariance \\\n",
    "     --p-method scaled \\\n",
    "     --i-table data/atacama-table_clr.qza \\\n",
    "     --o-covariance-matrix data/atacama-table_corr.qza"
   ]
  },
  {
   "cell_type": "code",
   "execution_count": null,
   "metadata": {
    "collapsed": false,
    "jupyter": {
     "outputs_hidden": false
    },
    "pycharm": {
     "name": "#%%\n"
    }
   },
   "outputs": [],
   "source": [
    "!qiime gglasso solve-problem \\\n",
    "     --p-n-samples 53 \\\n",
    "     --p-lambda1 0.07 \\\n",
    "     --p-latent True \\\n",
    "     --p-mu1 1.8 1.4 1.35 1.25 1.2 1.1 1.05 1.015 1 \\\n",
    "     --i-covariance-matrix data/atacama-table_corr.qza \\\n",
    "     --o-solution data/atacama-solution_low.qza \\\n",
    "     --verbose"
   ]
  },
  {
   "cell_type": "code",
   "execution_count": null,
   "metadata": {
    "collapsed": false,
    "jupyter": {
     "outputs_hidden": false
    },
    "pycharm": {
     "name": "#%%\n"
    }
   },
   "outputs": [],
   "source": [
    "!qiime gglasso heatmap \\\n",
    "    --i-solution data/atacama-solution_low.qza \\\n",
    "    --o-visualization data/atacama-heatmap_solution_low.qzv"
   ]
  },
  {
   "cell_type": "markdown",
   "metadata": {
    "pycharm": {
     "name": "#%% md\n"
    }
   },
   "source": [
    "### Export"
   ]
  },
  {
   "cell_type": "code",
   "execution_count": null,
   "metadata": {
    "collapsed": false,
    "jupyter": {
     "outputs_hidden": false
    },
    "pycharm": {
     "name": "#%%\n"
    }
   },
   "outputs": [],
   "source": [
    "!qiime tools export \\\n",
    "  --input-path data/atacama-table_composition.qza \\\n",
    "  --output-path data/atacama-table_composition"
   ]
  },
  {
   "cell_type": "code",
   "execution_count": null,
   "metadata": {
    "collapsed": false,
    "jupyter": {
     "outputs_hidden": false
    },
    "pycharm": {
     "name": "#%%\n"
    }
   },
   "outputs": [],
   "source": [
    "!qiime tools export \\\n",
    "  --input-path data/atacama-table_clr.qza \\\n",
    "  --output-path data/atacama-table_clr_small"
   ]
  },
  {
   "cell_type": "code",
   "execution_count": null,
   "metadata": {
    "collapsed": false,
    "jupyter": {
     "outputs_hidden": false
    },
    "pycharm": {
     "name": "#%%\n"
    }
   },
   "outputs": [],
   "source": [
    "!qiime tools export \\\n",
    "  --input-path data/atacama-table_corr.qza \\\n",
    "  --output-path data/atacama-table_corr"
   ]
  },
  {
   "cell_type": "code",
   "execution_count": null,
   "metadata": {
    "collapsed": false,
    "jupyter": {
     "outputs_hidden": false
    },
    "pycharm": {
     "name": "#%%\n"
    }
   },
   "outputs": [],
   "source": [
    "!biom convert -i data/atacama-table_clr_small/feature-table.biom -o data/atacama-table_clr_small/small_clr_feature-table.tsv --to-tsv\n",
    "!biom convert -i data/atacama-table_composition/feature-table.biom -o data/atacama-table_composition/composition_feature-table.tsv --to-tsv"
   ]
  },
  {
   "cell_type": "code",
   "execution_count": null,
   "metadata": {
    "collapsed": false,
    "jupyter": {
     "outputs_hidden": false
    },
    "pycharm": {
     "name": "#%%\n"
    }
   },
   "outputs": [],
   "source": [
    "remove_biom_header(file_path=\"data/atacama-table_clr_small/small_clr_feature-table.tsv\")\n",
    "remove_biom_header(file_path=\"data/atacama-table_composition/composition_feature-table.tsv\")"
   ]
  },
  {
   "cell_type": "markdown",
   "metadata": {
    "pycharm": {
     "name": "#%% md\n"
    }
   },
   "source": [
    "### Plotting low rank solution with metadata"
   ]
  },
  {
   "cell_type": "code",
   "execution_count": null,
   "metadata": {
    "collapsed": false,
    "jupyter": {
     "outputs_hidden": false
    },
    "pycharm": {
     "name": "#%%\n"
    }
   },
   "outputs": [],
   "source": [
    "sol = zarr.load(\"data/atacama_low/problem.zip\")\n",
    "L = sol['solution/lowrank_']\n",
    "\n",
    "df = pd.read_csv(str(\"data/atacama-table_clr_small/small_clr_feature-table.tsv\"), index_col=0, sep='\\t')"
   ]
  },
  {
   "cell_type": "code",
   "execution_count": null,
   "metadata": {
    "collapsed": false,
    "jupyter": {
     "outputs_hidden": false
    },
    "pycharm": {
     "name": "#%%\n"
    }
   },
   "outputs": [],
   "source": [
    "x = df.sum(axis=1)\n",
    "x_scaled = (x-x.min())/(x.max()-x.min())\n",
    "seq_depth = pd.DataFrame(data=x_scaled, columns=[\"sequencing depth\"])"
   ]
  },
  {
   "cell_type": "code",
   "execution_count": null,
   "metadata": {
    "collapsed": false,
    "jupyter": {
     "outputs_hidden": false
    },
    "pycharm": {
     "name": "#%%\n"
    }
   },
   "outputs": [],
   "source": [
    "mapping = pd.read_csv(\"data/atacama-sample-metadata.tsv\", sep='\\t', index_col=0)\n",
    "mapping = mapping.reindex(df.index)\n",
    "mapping.vegetation = mapping.vegetation.map(dict(yes=1, no=0))\n",
    "\n",
    "cols = mapping.columns.drop(['barcode-sequence', 'extract-group-no',\n",
    "                             'transect-name', 'site-name', 'vegetation'])\n",
    "\n",
    "mapping[cols] = mapping[cols].apply(pd.to_numeric, errors='coerce')"
   ]
  },
  {
   "cell_type": "code",
   "execution_count": null,
   "metadata": {
    "collapsed": false,
    "jupyter": {
     "outputs_hidden": false
    },
    "pycharm": {
     "name": "#%%\n"
    }
   },
   "outputs": [],
   "source": [
    "for col in mapping[cols]:\n",
    "    path = \"example/atacama/plots/\" + col\n",
    "    if not os.path.exists(path):\n",
    "        os.makedirs(path)\n",
    "\n",
    "    plot_df = df.join(mapping[col])\n",
    "    plot_df = plot_df.dropna()\n",
    "    print(col, \":\", plot_df.shape)\n",
    "\n",
    "    proj, loadings, eigv = PCA(plot_df.iloc[:, :-1], L, inverse=True) #exclude feature column :-1\n",
    "    r = np.linalg.matrix_rank(L)\n",
    "\n",
    "    plot_df = plot_df.join(seq_depth)\n",
    "\n",
    "    for i in range(0, r):\n",
    "\n",
    "        r_2 = stats.spearmanr(plot_df[col], proj[:, i])[0]\n",
    "        p_value = stats.spearmanr(plot_df[col], proj[:, i])[1]\n",
    "\n",
    "        fig, ax = plt.subplots(1, 1)\n",
    "        im = ax.scatter(proj[:, i], plot_df[col], c=plot_df['sequencing depth'], cmap=plt.cm.Blues, vmin=0)\n",
    "        cbar = fig.colorbar(im)\n",
    "\n",
    "        textstr = '\\n'.join((\n",
    "            r'$\\rho=%.2f$' % (r_2,),\n",
    "            r'$\\mathrm{p_{value}}=%.4f$' % (p_value, )))\n",
    "        props = dict(boxstyle='round', facecolor='wheat', alpha=0.2)\n",
    "\n",
    "        cbar.set_label(\"Sampling depth\")\n",
    "        ax.set_xlabel(\"PCA component {0} with eigenvalue {1}\".format(i + 1, eigv[i]))\n",
    "        ax.set_ylabel(\"{0}\".format(col))\n",
    "        ax.text(0.05, 0.95, textstr, transform=ax.transAxes, fontsize=7,\n",
    "                verticalalignment='top', bbox=props)\n",
    "\n",
    "        spearman_corr = stats.spearmanr(plot_df[col], proj[:, i])[0]\n",
    "        p_value = stats.spearmanr(plot_df[col], proj[:, i])[1]\n",
    "\n",
    "        print(\"Spearman correlation between {0} and {1} component: {2}, p-value: {3}\".format(col, i+1,\n",
    "                                                                                             spearman_corr, p_value))\n",
    "        if (np.absolute(spearman_corr) > 0.7) and (p_value < 0.05):\n",
    "            plt.savefig('example/atacama/plots/{0}/{1}_r{2}.png'.format(col, col, i + 1))"
   ]
  }
 ],
 "metadata": {
  "kernelspec": {
   "display_name": "Python 3 (ipykernel)",
   "language": "python",
   "name": "python3"
  },
  "language_info": {
   "codemirror_mode": {
    "name": "ipython",
    "version": 3
   },
   "file_extension": ".py",
   "mimetype": "text/x-python",
   "name": "python",
   "nbconvert_exporter": "python",
   "pygments_lexer": "ipython3",
   "version": "3.8.13"
  }
 },
 "nbformat": 4,
 "nbformat_minor": 4
}
