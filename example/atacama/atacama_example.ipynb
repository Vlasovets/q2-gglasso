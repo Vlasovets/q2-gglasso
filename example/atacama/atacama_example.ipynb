{
 "cells": [
  {
   "cell_type": "code",
   "execution_count": null,
   "metadata": {
    "collapsed": true,
    "pycharm": {
     "is_executing": true
    }
   },
   "outputs": [],
   "source": [
    "# cd to the root directory\n",
    "!python setup.py install\n",
    "!qiime dev refresh-cache"
   ]
  },
  {
   "cell_type": "code",
   "execution_count": 28,
   "outputs": [],
   "source": [
    "import pandas as pd\n",
    "import numpy as np\n",
    "import qiime2 as q2\n",
    "import zarr\n",
    "import os\n",
    "\n",
    "\n",
    "import matplotlib.pyplot as plt\n",
    "from scipy import stats\n",
    "\n",
    "from q2_gglasso.utils import PCA, remove_biom_header"
   ],
   "metadata": {
    "collapsed": false,
    "pycharm": {
     "name": "#%%\n"
    }
   }
  },
  {
   "cell_type": "markdown",
   "source": [
    "### Import data"
   ],
   "metadata": {
    "collapsed": false,
    "pycharm": {
     "name": "#%% md\n"
    }
   }
  },
  {
   "cell_type": "code",
   "execution_count": null,
   "outputs": [],
   "source": [
    "!qiime tools import \\\n",
    "   --type EMPPairedEndSequences \\\n",
    "   --input-path data/atacama-emp-paired-end-sequences \\\n",
    "   --output-path data/atacama-emp-paired-end-sequences.qza"
   ],
   "metadata": {
    "collapsed": false,
    "pycharm": {
     "name": "#%%\n",
     "is_executing": true
    }
   }
  },
  {
   "cell_type": "markdown",
   "source": [
    "### Demultiplexing\n",
    "\"Demultiplexing\" refers to the step in processing where you'd use the barcode information in order to know which sequences came from which samples after they had all been sequenced together. In this data set, the barcode reads are the reverse complement of those included in the sample metadata file, so we additionally include the --p-rev-comp-mapping-barcodes parameter."
   ],
   "metadata": {
    "collapsed": false,
    "pycharm": {
     "name": "#%% md\n"
    }
   }
  },
  {
   "cell_type": "code",
   "execution_count": null,
   "outputs": [],
   "source": [
    "!qiime demux emp-paired \\\n",
    "  --m-barcodes-file data/atacama-sample-metadata.tsv \\\n",
    "  --m-barcodes-column barcode-sequence \\\n",
    "  --p-rev-comp-mapping-barcodes \\\n",
    "  --i-seqs data/atacama-emp-paired-end-sequences.qza \\\n",
    "  --o-per-sample-sequences data/atacama-demux-full.qza \\\n",
    "  --o-error-correction-details data/atacama-demux-details.qza"
   ],
   "metadata": {
    "collapsed": false,
    "pycharm": {
     "name": "#%%\n",
     "is_executing": true
    }
   }
  },
  {
   "cell_type": "code",
   "execution_count": null,
   "outputs": [],
   "source": [
    "!qiime demux summarize \\\n",
    "  --i-data data/atacama-demux-full.qza \\\n",
    "  --o-visualization data/atacama-demux-full.qzv"
   ],
   "metadata": {
    "collapsed": false,
    "pycharm": {
     "name": "#%%\n",
     "is_executing": true
    }
   }
  },
  {
   "cell_type": "code",
   "source": [
    "!qiime tools export \\\n",
    "  --input-path data/atacama-demux-full.qzv \\\n",
    "  --output-path data/atacama-demux-full/"
   ],
   "metadata": {
    "collapsed": false,
    "pycharm": {
     "name": "#%%\n"
    }
   },
   "execution_count": null,
   "outputs": []
  },
  {
   "cell_type": "markdown",
   "source": [
    "### Filtering short sequences"
   ],
   "metadata": {
    "collapsed": false,
    "pycharm": {
     "name": "#%% md\n"
    }
   }
  },
  {
   "cell_type": "code",
   "execution_count": null,
   "outputs": [],
   "source": [
    "!qiime demux filter-samples \\\n",
    "  --i-demux data/atacama-demux-full.qza \\\n",
    "  --m-metadata-file data/atacama-demux-full/per-sample-fastq-counts.tsv \\\n",
    "  --p-where 'CAST([forward sequence count] AS INT) > 100' \\\n",
    "  --o-filtered-demux data/atacama-demux.qza"
   ],
   "metadata": {
    "collapsed": false,
    "pycharm": {
     "name": "#%%\n",
     "is_executing": true
    }
   }
  },
  {
   "cell_type": "markdown",
   "source": [
    "### Denoising with DADA2\n",
    "use recommended trimming pararms"
   ],
   "metadata": {
    "collapsed": false,
    "pycharm": {
     "name": "#%% md\n"
    }
   }
  },
  {
   "cell_type": "code",
   "execution_count": null,
   "outputs": [],
   "source": [
    "!qiime dada2 denoise-paired \\\n",
    "  --i-demultiplexed-seqs data/atacama-demux.qza \\\n",
    "  --p-trim-left-f 13 \\\n",
    "  --p-trim-left-r 13 \\\n",
    "  --p-trunc-len-f 150 \\\n",
    "  --p-trunc-len-r 150 \\\n",
    "  --o-table data/atacama-table.qza \\\n",
    "  --o-representative-sequences data/atacama-rep-seqs.qza \\\n",
    "  --o-denoising-stats data/atacama-denoising-stats.qza"
   ],
   "metadata": {
    "collapsed": false,
    "pycharm": {
     "name": "#%%\n",
     "is_executing": true
    }
   }
  },
  {
   "cell_type": "markdown",
   "source": [
    "### Summary of the feature table"
   ],
   "metadata": {
    "collapsed": false,
    "pycharm": {
     "name": "#%% md\n"
    }
   }
  },
  {
   "cell_type": "code",
   "execution_count": null,
   "outputs": [],
   "source": [
    "!qiime feature-table summarize \\\n",
    "  --i-table data/atacama-table.qza \\\n",
    "  --o-visualization data/atacama-table.qzv \\\n",
    "  --m-sample-metadata-file data/atacama-sample-metadata.tsv"
   ],
   "metadata": {
    "collapsed": false,
    "pycharm": {
     "name": "#%%\n",
     "is_executing": true
    }
   }
  },
  {
   "cell_type": "markdown",
   "source": [
    "Check features and representative sequences"
   ],
   "metadata": {
    "collapsed": false,
    "pycharm": {
     "name": "#%% md\n"
    }
   }
  },
  {
   "cell_type": "code",
   "execution_count": null,
   "outputs": [],
   "source": [
    "!qiime feature-table tabulate-seqs \\\n",
    "  --i-data data/atacama-rep-seqs.qza \\\n",
    "  --o-visualization data/atacama-rep-seqs.qzv"
   ],
   "metadata": {
    "collapsed": false,
    "pycharm": {
     "name": "#%%\n",
     "is_executing": true
    }
   }
  },
  {
   "cell_type": "markdown",
   "source": [
    "### Check denoising stats"
   ],
   "metadata": {
    "collapsed": false,
    "pycharm": {
     "name": "#%% md\n"
    }
   }
  },
  {
   "cell_type": "code",
   "execution_count": null,
   "outputs": [],
   "source": [
    "!qiime metadata tabulate \\\n",
    "  --m-input-file data/atacama-denoising-stats.qza \\\n",
    "  --o-visualization data/atacama-denoising-stats.qzv"
   ],
   "metadata": {
    "collapsed": false,
    "pycharm": {
     "name": "#%%\n",
     "is_executing": true
    }
   }
  },
  {
   "cell_type": "markdown",
   "source": [
    "### Select top100 taxa"
   ],
   "metadata": {
    "collapsed": false,
    "pycharm": {
     "name": "#%% md\n"
    }
   }
  },
  {
   "cell_type": "code",
   "execution_count": null,
   "outputs": [],
   "source": [
    "!qiime feature-table filter-features \\\n",
    "    --i-table data/atacama-table.qza \\\n",
    "    --o-filtered-table data/atacama-table.qza \\\n",
    "    --p-min-frequency 100"
   ],
   "metadata": {
    "collapsed": false,
    "pycharm": {
     "name": "#%%\n"
    }
   }
  },
  {
   "cell_type": "markdown",
   "source": [
    "### Replace zeros with ones"
   ],
   "metadata": {
    "collapsed": false,
    "pycharm": {
     "name": "#%% md\n"
    }
   }
  },
  {
   "cell_type": "code",
   "execution_count": null,
   "outputs": [],
   "source": [
    "!qiime composition add-pseudocount \\\n",
    "                    --i-table data/atacama-table.qza \\\n",
    "                    --p-pseudocount 1 \\\n",
    "                    --o-composition-table data/atacama-table_composition.qza"
   ],
   "metadata": {
    "collapsed": false,
    "pycharm": {
     "name": "#%%\n",
     "is_executing": true
    }
   }
  },
  {
   "cell_type": "markdown",
   "source": [
    "### Transform compositional data with CLR"
   ],
   "metadata": {
    "collapsed": false,
    "pycharm": {
     "name": "#%% md\n"
    }
   }
  },
  {
   "cell_type": "code",
   "execution_count": null,
   "outputs": [],
   "source": [
    "!qiime gglasso transform-features \\\n",
    "     --p-transformation clr \\\n",
    "     --i-table data/atacama-table_composition.qza \\\n",
    "     --o-transformed-table data/atacama-table_clr.qza"
   ],
   "metadata": {
    "collapsed": false,
    "pycharm": {
     "name": "#%%\n",
     "is_executing": true
    }
   }
  },
  {
   "cell_type": "code",
   "execution_count": null,
   "outputs": [],
   "source": [
    "!qiime gglasso calculate-covariance \\\n",
    "     --p-method scaled \\\n",
    "     --i-table data/atacama-table_clr.qza \\\n",
    "     --o-covariance-matrix data/atacama-table_corr.qza"
   ],
   "metadata": {
    "collapsed": false,
    "pycharm": {
     "name": "#%%\n",
     "is_executing": true
    }
   }
  },
  {
   "cell_type": "code",
   "execution_count": null,
   "outputs": [],
   "source": [
    "!qiime gglasso solve-problem \\\n",
    "     --p-lambda1 0.07 \\\n",
    "     --p-latent True \\\n",
    "     --p-mu1 2.2 1.8 1.6 1.5 1.4 1.2 1.15 1.05 1 0.95 \\\n",
    "     --i-covariance-matrix data/atacama-table_corr.qza \\\n",
    "     --o-solution data/atacama-solution_low.qza \\\n",
    "     --verbose"
   ],
   "metadata": {
    "collapsed": false,
    "pycharm": {
     "name": "#%%\n"
    }
   }
  },
  {
   "cell_type": "markdown",
   "source": [
    "### Export"
   ],
   "metadata": {
    "collapsed": false,
    "pycharm": {
     "name": "#%% md\n"
    }
   }
  },
  {
   "cell_type": "code",
   "execution_count": null,
   "outputs": [],
   "source": [
    "!qiime tools export \\\n",
    "  --input-path data/atacama-table_clr.qza \\\n",
    "  --output-path data/atacama-table_clr"
   ],
   "metadata": {
    "collapsed": false,
    "pycharm": {
     "name": "#%%\n"
    }
   }
  },
  {
   "cell_type": "code",
   "execution_count": null,
   "outputs": [],
   "source": [
    "!qiime tools export \\\n",
    "  --input-path data/atacama-table_corr.qza \\\n",
    "  --output-path data/atacama-table_corr"
   ],
   "metadata": {
    "collapsed": false,
    "pycharm": {
     "name": "#%%\n"
    }
   }
  },
  {
   "cell_type": "code",
   "execution_count": null,
   "outputs": [],
   "source": [
    "!biom convert -i data/atacama-table_clr/feature-table.biom -o data/atacama-table_clr/clr_feature-table.tsv --to-tsv"
   ],
   "metadata": {
    "collapsed": false,
    "pycharm": {
     "name": "#%%\n"
    }
   }
  },
  {
   "cell_type": "code",
   "execution_count": null,
   "outputs": [],
   "source": [
    "remove_biom_header(file_path=\"data/atacama-table_clr/clr_feature-table.tsv\")"
   ],
   "metadata": {
    "collapsed": false,
    "pycharm": {
     "name": "#%%\n"
    }
   }
  },
  {
   "cell_type": "markdown",
   "source": [
    "### Plotting low rank solution with metadata"
   ],
   "metadata": {
    "collapsed": false,
    "pycharm": {
     "name": "#%% md\n"
    }
   }
  },
  {
   "cell_type": "code",
   "execution_count": null,
   "outputs": [],
   "source": [
    "sol = zarr.load(\"data/atacama_low/problem.zip\")\n",
    "L = sol['solution/lowrank_']\n",
    "\n",
    "df = pd.read_csv(str(\"data/atacama-table_clr_small/small_clr_feature-table.tsv\"), index_col=0, sep='\\t')"
   ],
   "metadata": {
    "collapsed": false,
    "pycharm": {
     "name": "#%%\n"
    }
   }
  },
  {
   "cell_type": "code",
   "execution_count": null,
   "outputs": [],
   "source": [
    "mapping = pd.read_csv(\"data/atacama-sample-metadata.tsv\", sep='\\t', index_col=0)\n",
    "mapping = mapping.reindex(df.index)\n",
    "mapping.vegetation = mapping.vegetation.map(dict(yes=1, no=0))\n",
    "\n",
    "cols = mapping.columns.drop(['barcode-sequence', 'extract-group-no',\n",
    "                             'transect-name', 'site-name', 'vegetation'])\n",
    "\n",
    "mapping[cols] = mapping[cols].apply(pd.to_numeric, errors='coerce')"
   ],
   "metadata": {
    "collapsed": false,
    "pycharm": {
     "name": "#%%\n"
    }
   }
  },
  {
   "cell_type": "code",
   "execution_count": null,
   "outputs": [],
   "source": [
    "for col in mapping[cols]:\n",
    "    if col != 'depth':\n",
    "        path = \"example/atacama/plots/\" + col\n",
    "        if not os.path.exists(path):\n",
    "            os.makedirs(path)\n",
    "\n",
    "        plot_df = df.join(mapping[col])\n",
    "        plot_df = plot_df.dropna()\n",
    "        print(col, \":\", plot_df.shape)\n",
    "\n",
    "        proj, loadings, eigv = PCA(plot_df.iloc[:, :-1], L, inverse=True)\n",
    "        r = np.linalg.matrix_rank(L)\n",
    "\n",
    "        plot_df = plot_df.join(mapping['depth'])\n",
    "        depth = plot_df['depth']\n",
    "\n",
    "        for i in range(0, r):\n",
    "            fig, ax = plt.subplots(1, 1)\n",
    "            im = ax.scatter(proj[:, i], plot_df[col], c=depth, cmap=plt.cm.Blues, vmin=0)\n",
    "            cbar = fig.colorbar(im)\n",
    "            cbar.set_label(\"Sampling depth\")\n",
    "            ax.set_xlabel(\"PCA component {0} with eigenvalue {1}\".format(i + 1, eigv[i]))\n",
    "            ax.set_ylabel(\"{0}\".format(col))\n",
    "            plt.savefig('example/atacama/plots/{0}/{1}_r{2}.png'.format(col, col, i + 1))\n",
    "\n",
    "            print(\"Spearman correlation between {0} and {1} component: {2}, p-value: {3}\".format(col, i+1,\n",
    "                stats.spearmanr(plot_df[col], proj[:, i])[0],\n",
    "                stats.spearmanr(plot_df[col], proj[:, i])[1]))"
   ],
   "metadata": {
    "collapsed": false,
    "pycharm": {
     "name": "#%%\n"
    }
   }
  }
 ],
 "metadata": {
  "kernelspec": {
   "display_name": "Python 3",
   "language": "python",
   "name": "python3"
  },
  "language_info": {
   "codemirror_mode": {
    "name": "ipython",
    "version": 2
   },
   "file_extension": ".py",
   "mimetype": "text/x-python",
   "name": "python",
   "nbconvert_exporter": "python",
   "pygments_lexer": "ipython2",
   "version": "2.7.6"
  }
 },
 "nbformat": 4,
 "nbformat_minor": 0
}